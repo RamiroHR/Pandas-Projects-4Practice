{
 "cells": [
  {
   "cell_type": "markdown",
   "metadata": {
    "id": "Q_rqa1jwKd5v"
   },
   "source": [
    "# Python pandas Practice Problems\n",
    "\n",
    "Project from datascience@berkeley's collection of Python pandas practice problems. \n",
    "\n",
    "A few notes to get you started:\n",
    "\n",
    "* The space provided for code is not a line limit or hint. Add and use as many lines of code or additional cells as necessary.\n",
    "* Lines preceded with '#' are comments and provide additional explanation but will not affect written code or execution.\n",
    "\n",
    "\\"
   ]
  },
  {
   "cell_type": "code",
   "execution_count": 10,
   "metadata": {
    "id": "_DgRNdroKTwF"
   },
   "outputs": [],
   "source": [
    "# Import statements go here\n",
    "\n",
    "import pandas as pd\n",
    "import statsmodels.api as sm"
   ]
  },
  {
   "cell_type": "markdown",
   "metadata": {
    "id": "525Moc9hEfFr"
   },
   "source": [
    "## Importing Data and Making a DataFrame\n",
    "The statsmodels package (installed in the code cell above) includes built-in datasets. Execute the code below to download data from the [American National Election Studies of 1996](https://www.statsmodels.org/dev/datasets/generated/anes96.html) and print a detailed description of the schema.\n",
    "\n",
    "The next cell extracts the `Dataset` object from the submodule and saves the `DataFrame` to the variable `df`. In the questions that follow, use `df` when referencing the dataset."
   ]
  },
  {
   "cell_type": "code",
   "execution_count": 11,
   "metadata": {
    "colab": {
     "base_uri": "https://localhost:8080/"
    },
    "id": "d-bGIc2VNqvW",
    "outputId": "ce3d31c1-ec86-41ef-ebb5-f8df6d67befb"
   },
   "outputs": [
    {
     "name": "stdout",
     "output_type": "stream",
     "text": [
      "::\n",
      "\n",
      "    Number of observations - 944\n",
      "    Number of variables - 10\n",
      "\n",
      "    Variables name definitions::\n",
      "\n",
      "            popul - Census place population in 1000s\n",
      "            TVnews - Number of times per week that respondent watches TV news.\n",
      "            PID - Party identification of respondent.\n",
      "                0 - Strong Democrat\n",
      "                1 - Weak Democrat\n",
      "                2 - Independent-Democrat\n",
      "                3 - Independent-Indpendent\n",
      "                4 - Independent-Republican\n",
      "                5 - Weak Republican\n",
      "                6 - Strong Republican\n",
      "            age : Age of respondent.\n",
      "            educ - Education level of respondent\n",
      "                1 - 1-8 grades\n",
      "                2 - Some high school\n",
      "                3 - High school graduate\n",
      "                4 - Some college\n",
      "                5 - College degree\n",
      "                6 - Master's degree\n",
      "                7 - PhD\n",
      "            income - Income of household\n",
      "                1  - None or less than $2,999\n",
      "                2  - $3,000-$4,999\n",
      "                3  - $5,000-$6,999\n",
      "                4  - $7,000-$8,999\n",
      "                5  - $9,000-$9,999\n",
      "                6  - $10,000-$10,999\n",
      "                7  - $11,000-$11,999\n",
      "                8  - $12,000-$12,999\n",
      "                9  - $13,000-$13,999\n",
      "                10 - $14,000-$14.999\n",
      "                11 - $15,000-$16,999\n",
      "                12 - $17,000-$19,999\n",
      "                13 - $20,000-$21,999\n",
      "                14 - $22,000-$24,999\n",
      "                15 - $25,000-$29,999\n",
      "                16 - $30,000-$34,999\n",
      "                17 - $35,000-$39,999\n",
      "                18 - $40,000-$44,999\n",
      "                19 - $45,000-$49,999\n",
      "                20 - $50,000-$59,999\n",
      "                21 - $60,000-$74,999\n",
      "                22 - $75,000-89,999\n",
      "                23 - $90,000-$104,999\n",
      "                24 - $105,000 and over\n",
      "            vote - Expected vote\n",
      "                0 - Clinton\n",
      "                1 - Dole\n",
      "            The following 3 variables all take the values:\n",
      "                1 - Extremely liberal\n",
      "                2 - Liberal\n",
      "                3 - Slightly liberal\n",
      "                4 - Moderate\n",
      "                5 - Slightly conservative\n",
      "                6 - Conservative\n",
      "                7 - Extremely Conservative\n",
      "            selfLR - Respondent's self-reported political leanings from \"Left\"\n",
      "                to \"Right\".\n",
      "            ClinLR - Respondents impression of Bill Clinton's political\n",
      "                leanings from \"Left\" to \"Right\".\n",
      "            DoleLR  - Respondents impression of Bob Dole's political leanings\n",
      "                from \"Left\" to \"Right\".\n",
      "            logpopul - log(popul + .1)\n",
      "\n"
     ]
    }
   ],
   "source": [
    "anes96 = sm.datasets.anes96\n",
    "print(anes96.NOTE)"
   ]
  },
  {
   "cell_type": "code",
   "execution_count": 12,
   "metadata": {
    "id": "0aVym7SVK-IU"
   },
   "outputs": [],
   "source": [
    "dataset_anes96 = anes96.load_pandas()\n",
    "df = dataset_anes96.data"
   ]
  },
  {
   "cell_type": "markdown",
   "metadata": {
    "id": "kBHruDwCK1mH"
   },
   "source": [
    "## 1. DataFrame Basic Properties Exercise\n",
    "\n",
    "Our DataFrame (`df`) contains data on registered voters in the United States, including demographic information and political preference. Using `pandas`, print the first 5 rows of the DataFrame to get a sense of what the data looks like. Next, answer the following questions:\n",
    "\n",
    "\n",
    "*   How many observations are in the DataFrame?\n",
    "*   How many variables are measured (how many columns)?\n",
    "*   What is the age of the youngest person in the data? The oldest?\n",
    "*   How many days a week does the average respondent watch TV news (round to the nearest tenth)?\n",
    "*   Check for missing values. Are there any?\n",
    "\n",
    "\n",
    "\n",
    "\n"
   ]
  },
  {
   "cell_type": "code",
   "execution_count": 13,
   "metadata": {
    "colab": {
     "base_uri": "https://localhost:8080/",
     "height": 206
    },
    "id": "kh7hT9QyEsxl",
    "outputId": "6b560725-8e59-4a15-87fa-18f6ef9dfc32"
   },
   "outputs": [
    {
     "data": {
      "text/html": [
       "<div>\n",
       "<style scoped>\n",
       "    .dataframe tbody tr th:only-of-type {\n",
       "        vertical-align: middle;\n",
       "    }\n",
       "\n",
       "    .dataframe tbody tr th {\n",
       "        vertical-align: top;\n",
       "    }\n",
       "\n",
       "    .dataframe thead th {\n",
       "        text-align: right;\n",
       "    }\n",
       "</style>\n",
       "<table border=\"1\" class=\"dataframe\">\n",
       "  <thead>\n",
       "    <tr style=\"text-align: right;\">\n",
       "      <th></th>\n",
       "      <th>popul</th>\n",
       "      <th>TVnews</th>\n",
       "      <th>selfLR</th>\n",
       "      <th>ClinLR</th>\n",
       "      <th>DoleLR</th>\n",
       "      <th>PID</th>\n",
       "      <th>age</th>\n",
       "      <th>educ</th>\n",
       "      <th>income</th>\n",
       "      <th>vote</th>\n",
       "      <th>logpopul</th>\n",
       "    </tr>\n",
       "  </thead>\n",
       "  <tbody>\n",
       "    <tr>\n",
       "      <th>0</th>\n",
       "      <td>0.0</td>\n",
       "      <td>7.0</td>\n",
       "      <td>7.0</td>\n",
       "      <td>1.0</td>\n",
       "      <td>6.0</td>\n",
       "      <td>6.0</td>\n",
       "      <td>36.0</td>\n",
       "      <td>3.0</td>\n",
       "      <td>1.0</td>\n",
       "      <td>1.0</td>\n",
       "      <td>-2.302585</td>\n",
       "    </tr>\n",
       "    <tr>\n",
       "      <th>1</th>\n",
       "      <td>190.0</td>\n",
       "      <td>1.0</td>\n",
       "      <td>3.0</td>\n",
       "      <td>3.0</td>\n",
       "      <td>5.0</td>\n",
       "      <td>1.0</td>\n",
       "      <td>20.0</td>\n",
       "      <td>4.0</td>\n",
       "      <td>1.0</td>\n",
       "      <td>0.0</td>\n",
       "      <td>5.247550</td>\n",
       "    </tr>\n",
       "    <tr>\n",
       "      <th>2</th>\n",
       "      <td>31.0</td>\n",
       "      <td>7.0</td>\n",
       "      <td>2.0</td>\n",
       "      <td>2.0</td>\n",
       "      <td>6.0</td>\n",
       "      <td>1.0</td>\n",
       "      <td>24.0</td>\n",
       "      <td>6.0</td>\n",
       "      <td>1.0</td>\n",
       "      <td>0.0</td>\n",
       "      <td>3.437208</td>\n",
       "    </tr>\n",
       "    <tr>\n",
       "      <th>3</th>\n",
       "      <td>83.0</td>\n",
       "      <td>4.0</td>\n",
       "      <td>3.0</td>\n",
       "      <td>4.0</td>\n",
       "      <td>5.0</td>\n",
       "      <td>1.0</td>\n",
       "      <td>28.0</td>\n",
       "      <td>6.0</td>\n",
       "      <td>1.0</td>\n",
       "      <td>0.0</td>\n",
       "      <td>4.420045</td>\n",
       "    </tr>\n",
       "    <tr>\n",
       "      <th>4</th>\n",
       "      <td>640.0</td>\n",
       "      <td>7.0</td>\n",
       "      <td>5.0</td>\n",
       "      <td>6.0</td>\n",
       "      <td>4.0</td>\n",
       "      <td>0.0</td>\n",
       "      <td>68.0</td>\n",
       "      <td>6.0</td>\n",
       "      <td>1.0</td>\n",
       "      <td>0.0</td>\n",
       "      <td>6.461624</td>\n",
       "    </tr>\n",
       "  </tbody>\n",
       "</table>\n",
       "</div>"
      ],
      "text/plain": [
       "   popul  TVnews  selfLR  ClinLR  DoleLR  PID   age  educ  income  vote  \\\n",
       "0    0.0     7.0     7.0     1.0     6.0  6.0  36.0   3.0     1.0   1.0   \n",
       "1  190.0     1.0     3.0     3.0     5.0  1.0  20.0   4.0     1.0   0.0   \n",
       "2   31.0     7.0     2.0     2.0     6.0  1.0  24.0   6.0     1.0   0.0   \n",
       "3   83.0     4.0     3.0     4.0     5.0  1.0  28.0   6.0     1.0   0.0   \n",
       "4  640.0     7.0     5.0     6.0     4.0  0.0  68.0   6.0     1.0   0.0   \n",
       "\n",
       "   logpopul  \n",
       "0 -2.302585  \n",
       "1  5.247550  \n",
       "2  3.437208  \n",
       "3  4.420045  \n",
       "4  6.461624  "
      ]
     },
     "execution_count": 13,
     "metadata": {},
     "output_type": "execute_result"
    }
   ],
   "source": [
    "# Your code here\n",
    "df.head()"
   ]
  },
  {
   "cell_type": "code",
   "execution_count": 14,
   "metadata": {
    "colab": {
     "base_uri": "https://localhost:8080/"
    },
    "id": "M1xGCNF__e3O",
    "outputId": "1a055336-1e55-4412-b0fd-42cb5046c0b0"
   },
   "outputs": [
    {
     "name": "stdout",
     "output_type": "stream",
     "text": [
      "<class 'pandas.core.frame.DataFrame'>\n",
      "RangeIndex: 944 entries, 0 to 943\n",
      "Data columns (total 11 columns):\n",
      " #   Column    Non-Null Count  Dtype  \n",
      "---  ------    --------------  -----  \n",
      " 0   popul     944 non-null    float64\n",
      " 1   TVnews    944 non-null    float64\n",
      " 2   selfLR    944 non-null    float64\n",
      " 3   ClinLR    944 non-null    float64\n",
      " 4   DoleLR    944 non-null    float64\n",
      " 5   PID       944 non-null    float64\n",
      " 6   age       944 non-null    float64\n",
      " 7   educ      944 non-null    float64\n",
      " 8   income    944 non-null    float64\n",
      " 9   vote      944 non-null    float64\n",
      " 10  logpopul  944 non-null    float64\n",
      "dtypes: float64(11)\n",
      "memory usage: 81.2 KB\n"
     ]
    }
   ],
   "source": [
    "df.info()"
   ]
  },
  {
   "cell_type": "code",
   "execution_count": 15,
   "metadata": {
    "colab": {
     "base_uri": "https://localhost:8080/",
     "height": 300
    },
    "id": "S424d-oC_Sct",
    "outputId": "2f9bab7f-ecab-4977-abbf-ad7db084e987"
   },
   "outputs": [
    {
     "data": {
      "text/html": [
       "<div>\n",
       "<style scoped>\n",
       "    .dataframe tbody tr th:only-of-type {\n",
       "        vertical-align: middle;\n",
       "    }\n",
       "\n",
       "    .dataframe tbody tr th {\n",
       "        vertical-align: top;\n",
       "    }\n",
       "\n",
       "    .dataframe thead th {\n",
       "        text-align: right;\n",
       "    }\n",
       "</style>\n",
       "<table border=\"1\" class=\"dataframe\">\n",
       "  <thead>\n",
       "    <tr style=\"text-align: right;\">\n",
       "      <th></th>\n",
       "      <th>popul</th>\n",
       "      <th>TVnews</th>\n",
       "      <th>selfLR</th>\n",
       "      <th>ClinLR</th>\n",
       "      <th>DoleLR</th>\n",
       "      <th>PID</th>\n",
       "      <th>age</th>\n",
       "      <th>educ</th>\n",
       "      <th>income</th>\n",
       "      <th>vote</th>\n",
       "      <th>logpopul</th>\n",
       "    </tr>\n",
       "  </thead>\n",
       "  <tbody>\n",
       "    <tr>\n",
       "      <th>count</th>\n",
       "      <td>944.000000</td>\n",
       "      <td>944.000000</td>\n",
       "      <td>944.000000</td>\n",
       "      <td>944.000000</td>\n",
       "      <td>944.000000</td>\n",
       "      <td>944.000000</td>\n",
       "      <td>944.000000</td>\n",
       "      <td>944.000000</td>\n",
       "      <td>944.000000</td>\n",
       "      <td>944.000000</td>\n",
       "      <td>944.000000</td>\n",
       "    </tr>\n",
       "    <tr>\n",
       "      <th>mean</th>\n",
       "      <td>306.381356</td>\n",
       "      <td>3.727754</td>\n",
       "      <td>4.325212</td>\n",
       "      <td>2.939619</td>\n",
       "      <td>5.394068</td>\n",
       "      <td>2.842161</td>\n",
       "      <td>47.043432</td>\n",
       "      <td>4.565678</td>\n",
       "      <td>16.331568</td>\n",
       "      <td>0.416314</td>\n",
       "      <td>2.472307</td>\n",
       "    </tr>\n",
       "    <tr>\n",
       "      <th>std</th>\n",
       "      <td>1082.606745</td>\n",
       "      <td>2.677235</td>\n",
       "      <td>1.438436</td>\n",
       "      <td>1.383725</td>\n",
       "      <td>1.269349</td>\n",
       "      <td>2.273337</td>\n",
       "      <td>16.423130</td>\n",
       "      <td>1.599287</td>\n",
       "      <td>5.974781</td>\n",
       "      <td>0.493208</td>\n",
       "      <td>3.187043</td>\n",
       "    </tr>\n",
       "    <tr>\n",
       "      <th>min</th>\n",
       "      <td>0.000000</td>\n",
       "      <td>0.000000</td>\n",
       "      <td>1.000000</td>\n",
       "      <td>1.000000</td>\n",
       "      <td>1.000000</td>\n",
       "      <td>0.000000</td>\n",
       "      <td>19.000000</td>\n",
       "      <td>1.000000</td>\n",
       "      <td>1.000000</td>\n",
       "      <td>0.000000</td>\n",
       "      <td>-2.302585</td>\n",
       "    </tr>\n",
       "    <tr>\n",
       "      <th>25%</th>\n",
       "      <td>1.000000</td>\n",
       "      <td>1.000000</td>\n",
       "      <td>3.000000</td>\n",
       "      <td>2.000000</td>\n",
       "      <td>5.000000</td>\n",
       "      <td>1.000000</td>\n",
       "      <td>34.000000</td>\n",
       "      <td>3.000000</td>\n",
       "      <td>14.000000</td>\n",
       "      <td>0.000000</td>\n",
       "      <td>0.095310</td>\n",
       "    </tr>\n",
       "    <tr>\n",
       "      <th>50%</th>\n",
       "      <td>22.000000</td>\n",
       "      <td>3.000000</td>\n",
       "      <td>4.000000</td>\n",
       "      <td>3.000000</td>\n",
       "      <td>6.000000</td>\n",
       "      <td>2.000000</td>\n",
       "      <td>44.000000</td>\n",
       "      <td>4.000000</td>\n",
       "      <td>17.000000</td>\n",
       "      <td>0.000000</td>\n",
       "      <td>3.095578</td>\n",
       "    </tr>\n",
       "    <tr>\n",
       "      <th>75%</th>\n",
       "      <td>110.000000</td>\n",
       "      <td>7.000000</td>\n",
       "      <td>6.000000</td>\n",
       "      <td>4.000000</td>\n",
       "      <td>6.000000</td>\n",
       "      <td>5.000000</td>\n",
       "      <td>58.000000</td>\n",
       "      <td>6.000000</td>\n",
       "      <td>21.000000</td>\n",
       "      <td>1.000000</td>\n",
       "      <td>4.701389</td>\n",
       "    </tr>\n",
       "    <tr>\n",
       "      <th>max</th>\n",
       "      <td>7300.000000</td>\n",
       "      <td>7.000000</td>\n",
       "      <td>7.000000</td>\n",
       "      <td>7.000000</td>\n",
       "      <td>7.000000</td>\n",
       "      <td>6.000000</td>\n",
       "      <td>91.000000</td>\n",
       "      <td>7.000000</td>\n",
       "      <td>24.000000</td>\n",
       "      <td>1.000000</td>\n",
       "      <td>8.895643</td>\n",
       "    </tr>\n",
       "  </tbody>\n",
       "</table>\n",
       "</div>"
      ],
      "text/plain": [
       "             popul      TVnews      selfLR      ClinLR      DoleLR  \\\n",
       "count   944.000000  944.000000  944.000000  944.000000  944.000000   \n",
       "mean    306.381356    3.727754    4.325212    2.939619    5.394068   \n",
       "std    1082.606745    2.677235    1.438436    1.383725    1.269349   \n",
       "min       0.000000    0.000000    1.000000    1.000000    1.000000   \n",
       "25%       1.000000    1.000000    3.000000    2.000000    5.000000   \n",
       "50%      22.000000    3.000000    4.000000    3.000000    6.000000   \n",
       "75%     110.000000    7.000000    6.000000    4.000000    6.000000   \n",
       "max    7300.000000    7.000000    7.000000    7.000000    7.000000   \n",
       "\n",
       "              PID         age        educ      income        vote    logpopul  \n",
       "count  944.000000  944.000000  944.000000  944.000000  944.000000  944.000000  \n",
       "mean     2.842161   47.043432    4.565678   16.331568    0.416314    2.472307  \n",
       "std      2.273337   16.423130    1.599287    5.974781    0.493208    3.187043  \n",
       "min      0.000000   19.000000    1.000000    1.000000    0.000000   -2.302585  \n",
       "25%      1.000000   34.000000    3.000000   14.000000    0.000000    0.095310  \n",
       "50%      2.000000   44.000000    4.000000   17.000000    0.000000    3.095578  \n",
       "75%      5.000000   58.000000    6.000000   21.000000    1.000000    4.701389  \n",
       "max      6.000000   91.000000    7.000000   24.000000    1.000000    8.895643  "
      ]
     },
     "execution_count": 15,
     "metadata": {},
     "output_type": "execute_result"
    }
   ],
   "source": [
    "df.describe()"
   ]
  },
  {
   "cell_type": "code",
   "execution_count": 16,
   "metadata": {
    "colab": {
     "base_uri": "https://localhost:8080/"
    },
    "id": "KfcFttYsAv4q",
    "outputId": "2dc1a4a1-66b3-4bbe-e27c-40e955d4f938"
   },
   "outputs": [
    {
     "data": {
      "text/plain": [
       "popul       False\n",
       "TVnews      False\n",
       "selfLR      False\n",
       "ClinLR      False\n",
       "DoleLR      False\n",
       "PID         False\n",
       "age         False\n",
       "educ        False\n",
       "income      False\n",
       "vote        False\n",
       "logpopul    False\n",
       "dtype: bool"
      ]
     },
     "execution_count": 16,
     "metadata": {},
     "output_type": "execute_result"
    }
   ],
   "source": [
    "df.isna().any()"
   ]
  },
  {
   "cell_type": "markdown",
   "metadata": {
    "id": "1xB9F60r_ouN"
   },
   "source": [
    "Anwers:\n",
    "*   There are 944 observations and 11 variables.\n",
    "*   The younger person has 19 y.o. and the oldest person is 91 y.o.\n",
    "*   The average respondent watch TV news aproximately 4 times a week.\n",
    "*   There are no missing values\n",
    "\n"
   ]
  },
  {
   "cell_type": "markdown",
   "metadata": {
    "id": "RMerTMKXLA9f"
   },
   "source": [
    "## 2. Data Processing Exercise\n",
    "\n",
    "We want to adjust the dataset for our use. Do the following:\n",
    "\n",
    "\n",
    "*   Rename the `educ` column `education`.\n",
    "*   Create a new column called `party` based on each respondent's answer to `PID`. `party` should equal `Democrat` if the respondent selected either Strong Democrat or Weak Democrat. `party` will equal `Republican` if the respondent selected Strong or Weak Republican for `PID` and `Independent` if they selected anything else.\n",
    "*   Create a new column called `age_group` that buckets respondents into the following categories based on their `age`: 18-24, 25-34, 35-44, 45-54, 55-64, and 65 and over. \n",
    "\n"
   ]
  },
  {
   "cell_type": "code",
   "execution_count": 17,
   "metadata": {
    "colab": {
     "base_uri": "https://localhost:8080/"
    },
    "id": "QaxRXEVULDGn",
    "outputId": "37f4a3a3-47b7-4e74-e099-80913832c136"
   },
   "outputs": [
    {
     "data": {
      "text/plain": [
       "Index(['popul', 'TVnews', 'selfLR', 'ClinLR', 'DoleLR', 'PID', 'age',\n",
       "       'education', 'income', 'vote', 'logpopul'],\n",
       "      dtype='object')"
      ]
     },
     "execution_count": 17,
     "metadata": {},
     "output_type": "execute_result"
    }
   ],
   "source": [
    "# Your code here\n",
    "df.rename(columns={'educ':'education'}, inplace=True)\n",
    "df.columns\n"
   ]
  },
  {
   "cell_type": "code",
   "execution_count": 18,
   "metadata": {
    "colab": {
     "base_uri": "https://localhost:8080/",
     "height": 206
    },
    "id": "6QX66-kpIPlr",
    "outputId": "51345143-cf34-491d-d157-8817e6b7ae9d"
   },
   "outputs": [
    {
     "data": {
      "text/html": [
       "<div>\n",
       "<style scoped>\n",
       "    .dataframe tbody tr th:only-of-type {\n",
       "        vertical-align: middle;\n",
       "    }\n",
       "\n",
       "    .dataframe tbody tr th {\n",
       "        vertical-align: top;\n",
       "    }\n",
       "\n",
       "    .dataframe thead th {\n",
       "        text-align: right;\n",
       "    }\n",
       "</style>\n",
       "<table border=\"1\" class=\"dataframe\">\n",
       "  <thead>\n",
       "    <tr style=\"text-align: right;\">\n",
       "      <th></th>\n",
       "      <th>popul</th>\n",
       "      <th>TVnews</th>\n",
       "      <th>selfLR</th>\n",
       "      <th>ClinLR</th>\n",
       "      <th>DoleLR</th>\n",
       "      <th>PID</th>\n",
       "      <th>age</th>\n",
       "      <th>education</th>\n",
       "      <th>income</th>\n",
       "      <th>vote</th>\n",
       "      <th>logpopul</th>\n",
       "      <th>party</th>\n",
       "    </tr>\n",
       "  </thead>\n",
       "  <tbody>\n",
       "    <tr>\n",
       "      <th>0</th>\n",
       "      <td>0.0</td>\n",
       "      <td>7.0</td>\n",
       "      <td>7.0</td>\n",
       "      <td>1.0</td>\n",
       "      <td>6.0</td>\n",
       "      <td>6.0</td>\n",
       "      <td>36.0</td>\n",
       "      <td>3.0</td>\n",
       "      <td>1.0</td>\n",
       "      <td>1.0</td>\n",
       "      <td>-2.302585</td>\n",
       "      <td>Republican</td>\n",
       "    </tr>\n",
       "    <tr>\n",
       "      <th>1</th>\n",
       "      <td>190.0</td>\n",
       "      <td>1.0</td>\n",
       "      <td>3.0</td>\n",
       "      <td>3.0</td>\n",
       "      <td>5.0</td>\n",
       "      <td>1.0</td>\n",
       "      <td>20.0</td>\n",
       "      <td>4.0</td>\n",
       "      <td>1.0</td>\n",
       "      <td>0.0</td>\n",
       "      <td>5.247550</td>\n",
       "      <td>Democrat</td>\n",
       "    </tr>\n",
       "    <tr>\n",
       "      <th>2</th>\n",
       "      <td>31.0</td>\n",
       "      <td>7.0</td>\n",
       "      <td>2.0</td>\n",
       "      <td>2.0</td>\n",
       "      <td>6.0</td>\n",
       "      <td>1.0</td>\n",
       "      <td>24.0</td>\n",
       "      <td>6.0</td>\n",
       "      <td>1.0</td>\n",
       "      <td>0.0</td>\n",
       "      <td>3.437208</td>\n",
       "      <td>Democrat</td>\n",
       "    </tr>\n",
       "  </tbody>\n",
       "</table>\n",
       "</div>"
      ],
      "text/plain": [
       "   popul  TVnews  selfLR  ClinLR  DoleLR  PID   age  education  income  vote  \\\n",
       "0    0.0     7.0     7.0     1.0     6.0  6.0  36.0        3.0     1.0   1.0   \n",
       "1  190.0     1.0     3.0     3.0     5.0  1.0  20.0        4.0     1.0   0.0   \n",
       "2   31.0     7.0     2.0     2.0     6.0  1.0  24.0        6.0     1.0   0.0   \n",
       "\n",
       "   logpopul       party  \n",
       "0 -2.302585  Republican  \n",
       "1  5.247550    Democrat  \n",
       "2  3.437208    Democrat  "
      ]
     },
     "execution_count": 18,
     "metadata": {},
     "output_type": "execute_result"
    }
   ],
   "source": [
    "df['party'] = ['Democrat' if pid<=1 else 'Republican' if pid>=5 else 'Independent' for pid in df['PID'] ]\n",
    "df.head(3)\n",
    "#df[df['PID']==4].head(2)"
   ]
  },
  {
   "cell_type": "markdown",
   "metadata": {},
   "source": [
    "The 'age_group' has the 6 cathegories encoded with integers:\n",
    "\n",
    "> $1\\rightarrow[18-24] \\\\ 2\\rightarrow[25-34] \\\\ 3\\rightarrow[35-44] \\\\ 4\\rightarrow[45-54] \\\\ 5\\rightarrow[55-64] \\\\ 6\\rightarrow[>65]$"
   ]
  },
  {
   "cell_type": "code",
   "execution_count": 19,
   "metadata": {
    "colab": {
     "base_uri": "https://localhost:8080/",
     "height": 206
    },
    "id": "FaZs1vqLNRo5",
    "outputId": "6c589843-3318-43f1-e5fe-5fb77cff5ec0"
   },
   "outputs": [
    {
     "data": {
      "text/html": [
       "<div>\n",
       "<style scoped>\n",
       "    .dataframe tbody tr th:only-of-type {\n",
       "        vertical-align: middle;\n",
       "    }\n",
       "\n",
       "    .dataframe tbody tr th {\n",
       "        vertical-align: top;\n",
       "    }\n",
       "\n",
       "    .dataframe thead th {\n",
       "        text-align: right;\n",
       "    }\n",
       "</style>\n",
       "<table border=\"1\" class=\"dataframe\">\n",
       "  <thead>\n",
       "    <tr style=\"text-align: right;\">\n",
       "      <th></th>\n",
       "      <th>popul</th>\n",
       "      <th>TVnews</th>\n",
       "      <th>selfLR</th>\n",
       "      <th>ClinLR</th>\n",
       "      <th>DoleLR</th>\n",
       "      <th>PID</th>\n",
       "      <th>age</th>\n",
       "      <th>education</th>\n",
       "      <th>income</th>\n",
       "      <th>vote</th>\n",
       "      <th>logpopul</th>\n",
       "      <th>party</th>\n",
       "      <th>age_group</th>\n",
       "    </tr>\n",
       "  </thead>\n",
       "  <tbody>\n",
       "    <tr>\n",
       "      <th>0</th>\n",
       "      <td>0.0</td>\n",
       "      <td>7.0</td>\n",
       "      <td>7.0</td>\n",
       "      <td>1.0</td>\n",
       "      <td>6.0</td>\n",
       "      <td>6.0</td>\n",
       "      <td>36.0</td>\n",
       "      <td>3.0</td>\n",
       "      <td>1.0</td>\n",
       "      <td>1.0</td>\n",
       "      <td>-2.302585</td>\n",
       "      <td>Republican</td>\n",
       "      <td>3.0</td>\n",
       "    </tr>\n",
       "    <tr>\n",
       "      <th>1</th>\n",
       "      <td>190.0</td>\n",
       "      <td>1.0</td>\n",
       "      <td>3.0</td>\n",
       "      <td>3.0</td>\n",
       "      <td>5.0</td>\n",
       "      <td>1.0</td>\n",
       "      <td>20.0</td>\n",
       "      <td>4.0</td>\n",
       "      <td>1.0</td>\n",
       "      <td>0.0</td>\n",
       "      <td>5.247550</td>\n",
       "      <td>Democrat</td>\n",
       "      <td>1.0</td>\n",
       "    </tr>\n",
       "    <tr>\n",
       "      <th>2</th>\n",
       "      <td>31.0</td>\n",
       "      <td>7.0</td>\n",
       "      <td>2.0</td>\n",
       "      <td>2.0</td>\n",
       "      <td>6.0</td>\n",
       "      <td>1.0</td>\n",
       "      <td>24.0</td>\n",
       "      <td>6.0</td>\n",
       "      <td>1.0</td>\n",
       "      <td>0.0</td>\n",
       "      <td>3.437208</td>\n",
       "      <td>Democrat</td>\n",
       "      <td>1.0</td>\n",
       "    </tr>\n",
       "    <tr>\n",
       "      <th>3</th>\n",
       "      <td>83.0</td>\n",
       "      <td>4.0</td>\n",
       "      <td>3.0</td>\n",
       "      <td>4.0</td>\n",
       "      <td>5.0</td>\n",
       "      <td>1.0</td>\n",
       "      <td>28.0</td>\n",
       "      <td>6.0</td>\n",
       "      <td>1.0</td>\n",
       "      <td>0.0</td>\n",
       "      <td>4.420045</td>\n",
       "      <td>Democrat</td>\n",
       "      <td>2.0</td>\n",
       "    </tr>\n",
       "    <tr>\n",
       "      <th>4</th>\n",
       "      <td>640.0</td>\n",
       "      <td>7.0</td>\n",
       "      <td>5.0</td>\n",
       "      <td>6.0</td>\n",
       "      <td>4.0</td>\n",
       "      <td>0.0</td>\n",
       "      <td>68.0</td>\n",
       "      <td>6.0</td>\n",
       "      <td>1.0</td>\n",
       "      <td>0.0</td>\n",
       "      <td>6.461624</td>\n",
       "      <td>Democrat</td>\n",
       "      <td>6.0</td>\n",
       "    </tr>\n",
       "  </tbody>\n",
       "</table>\n",
       "</div>"
      ],
      "text/plain": [
       "   popul  TVnews  selfLR  ClinLR  DoleLR  PID   age  education  income  vote  \\\n",
       "0    0.0     7.0     7.0     1.0     6.0  6.0  36.0        3.0     1.0   1.0   \n",
       "1  190.0     1.0     3.0     3.0     5.0  1.0  20.0        4.0     1.0   0.0   \n",
       "2   31.0     7.0     2.0     2.0     6.0  1.0  24.0        6.0     1.0   0.0   \n",
       "3   83.0     4.0     3.0     4.0     5.0  1.0  28.0        6.0     1.0   0.0   \n",
       "4  640.0     7.0     5.0     6.0     4.0  0.0  68.0        6.0     1.0   0.0   \n",
       "\n",
       "   logpopul       party  age_group  \n",
       "0 -2.302585  Republican        3.0  \n",
       "1  5.247550    Democrat        1.0  \n",
       "2  3.437208    Democrat        1.0  \n",
       "3  4.420045    Democrat        2.0  \n",
       "4  6.461624    Democrat        6.0  "
      ]
     },
     "execution_count": 19,
     "metadata": {},
     "output_type": "execute_result"
    }
   ],
   "source": [
    "df['age_group']= ( df['age']-5 )//10\n",
    "df.head()"
   ]
  },
  {
   "cell_type": "markdown",
   "metadata": {
    "id": "FaisnScALWND"
   },
   "source": [
    "## 3. Filtering Data Exercise\n",
    "\n",
    "Use the filtering method to find all the respondents who have the impression that Bill Clinton is moderate or conservative (`ClinLR` equals 4 or higher). How many respondents are in this subset? \n",
    "\n",
    "Among these respondents, how many have a household income less than $50,000 and attended at least some college?"
   ]
  },
  {
   "cell_type": "code",
   "execution_count": 21,
   "metadata": {
    "colab": {
     "base_uri": "https://localhost:8080/"
    },
    "id": "eX5t91r1BJ3k",
    "outputId": "8362de5c-59e8-433a-d80e-6115d3ec389a"
   },
   "outputs": [
    {
     "name": "stdout",
     "output_type": "stream",
     "text": [
      "There are 282 respondents who think that Bill Clinton is moderate or conservative,\n",
      "Of which, there are 98 having a household < $50K and have attended at least some college.\n"
     ]
    }
   ],
   "source": [
    "# Your code here\n",
    "\n",
    "df_BCview = df[df['ClinLR']>=4]\n",
    "print(f'There are {len(df_BCview)} respondents who think that Bill Clinton is moderate or conservative,')\n",
    "\n",
    "\n",
    "df_income_educ_filtered = df_BCview[ (df_BCview['income']<20) & (df_BCview['education']>=4) ]\n",
    "print(f'Of which, there are {len(df_income_educ_filtered)} having a household < $50K and have attended at least some college.')"
   ]
  },
  {
   "cell_type": "code",
   "execution_count": null,
   "metadata": {
    "id": "KE3StKk-Sv9l"
   },
   "outputs": [],
   "source": []
  },
  {
   "cell_type": "markdown",
   "metadata": {
    "id": "g5GzVjqdLe82"
   },
   "source": [
    "## 4. Calculating From Data Exercise\n",
    "\n",
    "For each of the below match-ups, choose the group that is more likely to vote for Bill Clinton. You can calculate this using the percentage of each group that intends to vote for Clinton (`vote`). Which match-up was the closest? Which had the biggest difference?\n",
    "\n",
    "Another way to think about this: Given that a respondent is a Democrat, there is a ____ percent chance they will vote for Clinton. How does this value change if the respondent is a Republican?\n",
    "\n",
    "*   Democrats or Republicans\n",
    "*   People younger than 44 or People 44 and older\n",
    "*   People who watch TV news at least 6 days a week or People who watch TV news less than 3 days a week\n",
    "*   People who live somewhere with a population greater than the average population of all respondent or People who live in a place with a population equal to or less than the average respondent\n"
   ]
  },
  {
   "cell_type": "code",
   "execution_count": 32,
   "metadata": {
    "colab": {
     "base_uri": "https://localhost:8080/"
    },
    "id": "G2IkusAgYPgg",
    "outputId": "b61aa757-0b34-4816-ffb3-6dde92f4bd7e"
   },
   "outputs": [
    {
     "name": "stdout",
     "output_type": "stream",
     "text": [
      "0.0    0.963158\n",
      "1.0    0.036842\n",
      "Name: vote, dtype: float64 \n",
      "\n",
      " 96 % of democrats are voting for Clinton\n",
      " 10 % of republicans are voting for Clinton\n",
      "Among ['Democrats', 'Republicans'], Democrats are more likely to vote for Clinton\n"
     ]
    }
   ],
   "source": [
    "# Democrats vs Republicans\n",
    "Dem_vs_Rep = {}\n",
    "\n",
    "#Preview: Of all democrats, some are for Clinton (vote==0) and some are for Dole (vote==1) \n",
    "print(df[df['party']=='Democrat']['vote'].value_counts(normalize=True),'\\n')\n",
    "\n",
    "#Democrats voting for Clinton:\n",
    "Dem_vs_Rep['Democrats'] = df[df['party']=='Democrat']['vote'].value_counts(normalize=True)[0.0]\n",
    "print(f'{Dem_vs_Rep[\"Democrats\"]*100: .0f} % of democrats are voting for Clinton')\n",
    "\n",
    "#Republicans voting for Clinton:\n",
    "Dem_vs_Rep['Republicans'] = df[df['party']=='Republican']['vote'].value_counts(normalize=True)[0.0]\n",
    "print(f'{Dem_vs_Rep[\"Republicans\"]*100: .0f} % of republicans are voting for Clinton')\n",
    "\n",
    "# Match-up conclusion\n",
    "print(f'Among {list(Dem_vs_Rep.keys())}, {max(Dem_vs_Rep, key=Dem_vs_Rep.get)} are more likely to vote for Clinton')\n",
    "\n",
    "Match={}\n",
    "Match['party'] = abs(Dem_vs_Rep['Democrats']-Dem_vs_Rep['Republicans'])"
   ]
  },
  {
   "cell_type": "code",
   "execution_count": 56,
   "metadata": {},
   "outputs": [
    {
     "name": "stdout",
     "output_type": "stream",
     "text": [
      " 60% of people younger that 44 y.o. are voting for Clinton, but  57% of the older people are voting for him.\n",
      "Among ['Older', 'Younger'], Younger are more likely to vote for Clinton\n"
     ]
    }
   ],
   "source": [
    "import numpy as np\n",
    "\n",
    "df['older44yo'] = np.where(df['age']>44,True,False)\n",
    "\n",
    "younger_vs_older = {\n",
    "    'Older' : df[df['older44yo']]['vote'].value_counts(normalize=True)[0.0],\n",
    "    'Younger' : df[ np.logical_not(df['older44yo'])]['vote'].value_counts(normalize=True)[0.0]\n",
    "    }\n",
    "\n",
    "print(f'{younger_vs_older[\"Younger\"]*100: .0f}% of people younger that 44 y.o. are voting for Clinton, \\\n",
    "but {younger_vs_older[\"Older\"]*100: .0f}% of the older people are voting for him.')\n",
    "\n",
    "\n",
    "# Match-up conclusion\n",
    "print(f'Among {list(younger_vs_older.keys())}, {max(younger_vs_older, key=younger_vs_older.get)} are more likely to vote for Clinton')\n",
    "\n",
    "Match['age'] = abs(younger_vs_older['Younger']-younger_vs_older['Older'])"
   ]
  },
  {
   "cell_type": "code",
   "execution_count": 62,
   "metadata": {},
   "outputs": [
    {
     "name": "stdout",
     "output_type": "stream",
     "text": [
      "People who watches TVnews at least 6 times/week are more likely to vote for Clinton ( 58%) than people who watches TVnews less than 3 times/week ( 55%)\n"
     ]
    }
   ],
   "source": [
    "TVnews_many_vs_few = {\n",
    "    'Many' : df[df['TVnews']>=6]['vote'].value_counts(normalize=True)[0.0],\n",
    "    'Few' : df[df['TVnews']<3]['vote'].value_counts(normalize=True)[0.0]\n",
    "    }\n",
    "\n",
    "#Match-up conclusion\n",
    "print(f'People who watches TVnews at least 6 times/week are more likely to vote for Clinton ({TVnews_many_vs_few[\"Many\"]*100: .0f}%)\\\n",
    " than people who watches TVnews less than 3 times/week ({TVnews_many_vs_few[\"Few\"]*100: .0f}%)')\n",
    "\n",
    "Match['TVnews'] = abs(TVnews_many_vs_few['Many'] - TVnews_many_vs_few['Few'] )"
   ]
  },
  {
   "cell_type": "code",
   "execution_count": 68,
   "metadata": {},
   "outputs": [
    {
     "name": "stdout",
     "output_type": "stream",
     "text": [
      "Percentage of respondents voting for Clinton living in areas with a population Above / Below the average population:\n",
      "Above:  72 %\n",
      "Below:  56 %\n"
     ]
    }
   ],
   "source": [
    "avg_pop = df.popul.mean()\n",
    "\n",
    "Above_vs_Below_AvgPop = {\n",
    "    'Above' : df[df['popul']>avg_pop]['vote'].value_counts(normalize=True)[0.0],\n",
    "    'Below' : df[df['popul']<=avg_pop]['vote'].value_counts(normalize=True)[0.0]\n",
    "        }\n",
    "\n",
    "print(\"Percentage of respondents voting for Clinton living in areas with a population Above / Below the average population:\")\n",
    "for k,v in Above_vs_Below_AvgPop.items():\n",
    "    print(f'{k}: {v*100: .0f} %')\n",
    "\n",
    "Match['Population'] = abs(Above_vs_Below_AvgPop['Above'] - Above_vs_Below_AvgPop['Below'] )"
   ]
  },
  {
   "cell_type": "code",
   "execution_count": 73,
   "metadata": {},
   "outputs": [
    {
     "name": "stdout",
     "output_type": "stream",
     "text": [
      "The resulting match-ups differences are:\n",
      "\tparty:  85.9%\n",
      "\tage:  2.8%\n",
      "\tTVnews:  2.3%\n",
      "\tPopulation:  16.4%\n",
      "The match-up about TVnews was the closest\n",
      "The match-up about party had the greatest difference \n",
      "\n"
     ]
    }
   ],
   "source": [
    "print('The resulting match-ups differences are:')\n",
    "for k, v in Match.items():\n",
    "    print(f'\\t{k}: {v*100: .1f}%')\n",
    "\n",
    "print(f'The match-up about {min(Match, key=Match.get)} was the closest')\n",
    "print(f'The match-up about {max(Match, key=Match.get)} had the greatest difference \\n')\n"
   ]
  },
  {
   "cell_type": "markdown",
   "metadata": {
    "id": "Q68i6UUQLZrT"
   },
   "source": [
    "## 5. Grouping Data Exercise\n",
    "\n",
    "Use the `groupby()` method to bucket respondents by `age_group`. Which age group is the most conservative (highest average selfLR value)? Which watches TV news the least (lowest average TVnews value)?\n",
    "\n",
    "Next, compute 5 percentile groups based on income (from 0 to 1 probability, classify in 5 groups). Group the dataset by these percentiles. Which income bracket is the most liberal? Which is the most conservative? The oldest? Highest educated? "
   ]
  },
  {
   "cell_type": "code",
   "execution_count": 127,
   "metadata": {
    "id": "eNrBrx6-LcBn"
   },
   "outputs": [
    {
     "name": "stdout",
     "output_type": "stream",
     "text": [
      "                popul    TVnews    selfLR    ClinLR    DoleLR       PID  \\\n",
      "age_group                                                                 \n",
      "1.0        502.735849  2.358491  4.000000  3.150943  5.150943  2.320755   \n",
      "2.0        310.353261  2.570652  4.217391  2.994565  5.500000  2.918478   \n",
      "3.0        366.138776  3.118367  4.257143  2.906122  5.477551  2.914286   \n",
      "4.0        206.482143  3.916667  4.285714  2.934524  5.410714  2.827381   \n",
      "5.0        390.911290  4.516129  4.532258  2.943548  5.185484  2.846774   \n",
      "6.0        134.145631  5.398058  4.475728  2.922330  5.378641  2.796117   \n",
      "7.0        278.640000  5.760000  4.640000  2.780000  5.140000  2.840000   \n",
      "8.0        285.823529  5.588235  4.529412  2.764706  6.000000  3.000000   \n",
      "\n",
      "                 age  education     income      vote  logpopul  older44yo  \n",
      "age_group                                                                  \n",
      "1.0        22.075472   4.150943  11.622642  0.320755  3.153667        0.0  \n",
      "2.0        30.141304   4.842391  16.255435  0.385870  2.925764        0.0  \n",
      "3.0        39.167347   4.808163  17.367347  0.432653  2.303744        0.0  \n",
      "4.0        49.023810   4.773810  18.625000  0.404762  1.792791        1.0  \n",
      "5.0        58.951613   4.556452  17.338710  0.467742  2.636208        1.0  \n",
      "6.0        69.388350   3.718447  13.815534  0.398058  2.377429        1.0  \n",
      "7.0        78.400000   4.280000  13.100000  0.480000  2.834098        1.0  \n",
      "8.0        87.294118   3.352941  11.647059  0.470588  2.899793        1.0  \n"
     ]
    }
   ],
   "source": [
    "# Your code here\n",
    "\n",
    "# df grouped([...]) by age group, take mean() in every column\n",
    "\n",
    "# print sorted (desc) column conserning selfLR to see which group is more conservative\n",
    "\n",
    "# print sorted (asc) column conserning TVnews watwh frequency\n"
   ]
  },
  {
   "cell_type": "code",
   "execution_count": 141,
   "metadata": {},
   "outputs": [
    {
     "name": "stdout",
     "output_type": "stream",
     "text": [
      "12.0\n"
     ]
    }
   ],
   "source": [
    "## Quantiles based on income: define a list with 5 values of income, below 20%, 40%, ...,80% of the data points is found.\n",
    "#Example:\n",
    "print(df['income'].quantile(q=0.2))\n",
    "\n",
    "#def income_quantile(df):\n",
    "#     \"\"\"\n",
    "#     define a function that based on the value of the income,\n",
    "#     verify in which .quantile(q=..) a responndent belong, \n",
    "#     and returns an asigned a label: Q1,Q2,...etc \n",
    "#     \"\"\"\n",
    "#    if df['income'] <= 12.0:\n",
    "#        return 'Q1'\n",
    "    \n",
    "\n",
    "\n",
    "# Apply it to the df and make a new column. Use the apply() method, which is elemt-wise\n"
   ]
  },
  {
   "cell_type": "code",
   "execution_count": 121,
   "metadata": {},
   "outputs": [],
   "source": [
    "# groupby income percentiles and compute mean of all columns. There are all the answer for the remaining questions:"
   ]
  },
  {
   "cell_type": "markdown",
   "metadata": {
    "id": "_ySpfyk-LSUS"
   },
   "source": [
    "## 6. Voting Across the Aisle\n",
    "\n",
    "We are interested in learning more about respondents who's political views differ strongly from the candidate they expect to vote for. Using `selfLR`, `vote`, `ClinLR`, and `DoleLR`, work through the following questions. Your interpretation may differ from the answer key.\n",
    "\n",
    "*   What is the largest recorded difference between a respondent's political leaning and their impression of their intended candidate's political leaning?\n",
    "*   How many respondents exhibit a difference of that magnitude? \n",
    "*   Make a separate DataFrame called `sway` that only includes voters who exhibit a difference greater or equal than |3|.\n",
    "*   Among those in `sway`, are respondents more likely to be voting for a candidate more conservative or more liberal than their own political leaning?\n",
    "*   In `sway`, which candidate is the more popular choice?\n",
    "\n"
   ]
  },
  {
   "cell_type": "code",
   "execution_count": 168,
   "metadata": {
    "id": "pIFQCKBcLX9z"
   },
   "outputs": [
    {
     "name": "stdout",
     "output_type": "stream",
     "text": [
      "-4.0 6.0\n",
      "The maximum absolute political distrance registered is 6.0 \n",
      "\n",
      "Only 1 respondent exhibit a political distance of 6\n",
      "Only 7 respondent exhibit a political distance of more than +/- 4 \n",
      "\n",
      "16 40\n",
      "Most of the sway respondent are voting for a more liberal candidate than themself \n",
      "\n",
      "48 8\n",
      "Clint is the most popular choise among sway responders\n"
     ]
    }
   ],
   "source": [
    "# Your code here\n",
    "\n",
    "df['polit_dist'] = (df['selfLR']-df['DoleLR'])*df['vote'] + (df['selfLR']-df['ClinLR'])*(1-df['vote'])\n",
    "\n",
    "#Extreme political distances:\n",
    "Lresp_Rcand , Rresp_Lcand = df['polit_dist'].min() , df['polit_dist'].max()\n",
    "\n",
    "print(Lresp_Rcand , Rresp_Lcand)\n",
    "print(f'The maximum absolute political distrance registered is {max(abs(Lresp_Rcand),abs(Rresp_Lcand))} \\n')\n",
    "\n",
    "\n",
    "#how many respondent exhibit a difference of that magnitude?\n",
    "print(f'Only {len(df[df[\"polit_dist\"]==6])} respondent exhibit a political distance of 6')\n",
    "print(f'Only {len(df[abs(df[\"polit_dist\"])>=4])} respondent exhibit a political distance of more than +/- 4 \\n')\n",
    "\n",
    "#data frame sway\n",
    "sway = df[abs(df[\"polit_dist\"])>=3]\n",
    "\n",
    "Nvote_ConsCand = len(sway[ sway['polit_dist']<0 ])\n",
    "Nvote_LibCand = len(sway[ sway['polit_dist']>0 ])\n",
    "print(Nvote_ConsCand,Nvote_LibCand)\n",
    "if Nvote_ConsCand > Nvote_LibCand:\n",
    "    print('Most of the sway respondent are voting for a more conservative candidate than themself')\n",
    "else:\n",
    "    print('Most of the sway respondent are voting for a more liberal candidate than themself \\n')\n",
    "\n",
    "#most popular choice in sway:\n",
    "Nvote_Clin = len(sway[sway['vote']==0])\n",
    "Nvote_Dole = len(sway[sway['vote']==1])\n",
    "\n",
    "print(Nvote_Clin,Nvote_Dole)\n",
    "if Nvote_Clin> Nvote_Dole:\n",
    "    print('Clint is the most popular choise among sway responders')\n",
    "else:\n",
    "    print('Dole is the most popular choise among sway responders')\n"
   ]
  },
  {
   "cell_type": "code",
   "execution_count": 162,
   "metadata": {},
   "outputs": [
    {
     "data": {
      "text/html": [
       "<div>\n",
       "<style scoped>\n",
       "    .dataframe tbody tr th:only-of-type {\n",
       "        vertical-align: middle;\n",
       "    }\n",
       "\n",
       "    .dataframe tbody tr th {\n",
       "        vertical-align: top;\n",
       "    }\n",
       "\n",
       "    .dataframe thead th {\n",
       "        text-align: right;\n",
       "    }\n",
       "</style>\n",
       "<table border=\"1\" class=\"dataframe\">\n",
       "  <thead>\n",
       "    <tr style=\"text-align: right;\">\n",
       "      <th></th>\n",
       "      <th>popul</th>\n",
       "      <th>TVnews</th>\n",
       "      <th>selfLR</th>\n",
       "      <th>ClinLR</th>\n",
       "      <th>DoleLR</th>\n",
       "      <th>PID</th>\n",
       "      <th>age</th>\n",
       "      <th>education</th>\n",
       "      <th>income</th>\n",
       "      <th>vote</th>\n",
       "      <th>logpopul</th>\n",
       "      <th>party</th>\n",
       "      <th>age_group</th>\n",
       "      <th>polit_dist</th>\n",
       "    </tr>\n",
       "  </thead>\n",
       "  <tbody>\n",
       "    <tr>\n",
       "      <th>77</th>\n",
       "      <td>32.0</td>\n",
       "      <td>5.0</td>\n",
       "      <td>3.0</td>\n",
       "      <td>7.0</td>\n",
       "      <td>4.0</td>\n",
       "      <td>1.0</td>\n",
       "      <td>65.0</td>\n",
       "      <td>1.0</td>\n",
       "      <td>5.0</td>\n",
       "      <td>0.0</td>\n",
       "      <td>3.468856</td>\n",
       "      <td>Democrat</td>\n",
       "      <td>6.0</td>\n",
       "      <td>-4.0</td>\n",
       "    </tr>\n",
       "    <tr>\n",
       "      <th>147</th>\n",
       "      <td>720.0</td>\n",
       "      <td>5.0</td>\n",
       "      <td>1.0</td>\n",
       "      <td>5.0</td>\n",
       "      <td>6.0</td>\n",
       "      <td>1.0</td>\n",
       "      <td>64.0</td>\n",
       "      <td>6.0</td>\n",
       "      <td>10.0</td>\n",
       "      <td>0.0</td>\n",
       "      <td>6.579390</td>\n",
       "      <td>Democrat</td>\n",
       "      <td>5.0</td>\n",
       "      <td>-4.0</td>\n",
       "    </tr>\n",
       "    <tr>\n",
       "      <th>166</th>\n",
       "      <td>2.0</td>\n",
       "      <td>7.0</td>\n",
       "      <td>7.0</td>\n",
       "      <td>1.0</td>\n",
       "      <td>2.0</td>\n",
       "      <td>0.0</td>\n",
       "      <td>62.0</td>\n",
       "      <td>2.0</td>\n",
       "      <td>11.0</td>\n",
       "      <td>0.0</td>\n",
       "      <td>0.741937</td>\n",
       "      <td>Democrat</td>\n",
       "      <td>5.0</td>\n",
       "      <td>6.0</td>\n",
       "    </tr>\n",
       "    <tr>\n",
       "      <th>468</th>\n",
       "      <td>1.0</td>\n",
       "      <td>0.0</td>\n",
       "      <td>6.0</td>\n",
       "      <td>2.0</td>\n",
       "      <td>5.0</td>\n",
       "      <td>2.0</td>\n",
       "      <td>33.0</td>\n",
       "      <td>6.0</td>\n",
       "      <td>17.0</td>\n",
       "      <td>0.0</td>\n",
       "      <td>0.095310</td>\n",
       "      <td>Independent</td>\n",
       "      <td>2.0</td>\n",
       "      <td>4.0</td>\n",
       "    </tr>\n",
       "    <tr>\n",
       "      <th>638</th>\n",
       "      <td>9.0</td>\n",
       "      <td>3.0</td>\n",
       "      <td>7.0</td>\n",
       "      <td>2.0</td>\n",
       "      <td>5.0</td>\n",
       "      <td>4.0</td>\n",
       "      <td>46.0</td>\n",
       "      <td>3.0</td>\n",
       "      <td>20.0</td>\n",
       "      <td>0.0</td>\n",
       "      <td>2.208274</td>\n",
       "      <td>Independent</td>\n",
       "      <td>4.0</td>\n",
       "      <td>5.0</td>\n",
       "    </tr>\n",
       "    <tr>\n",
       "      <th>702</th>\n",
       "      <td>180.0</td>\n",
       "      <td>7.0</td>\n",
       "      <td>6.0</td>\n",
       "      <td>2.0</td>\n",
       "      <td>4.0</td>\n",
       "      <td>6.0</td>\n",
       "      <td>56.0</td>\n",
       "      <td>3.0</td>\n",
       "      <td>21.0</td>\n",
       "      <td>0.0</td>\n",
       "      <td>5.193512</td>\n",
       "      <td>Republican</td>\n",
       "      <td>5.0</td>\n",
       "      <td>4.0</td>\n",
       "    </tr>\n",
       "    <tr>\n",
       "      <th>920</th>\n",
       "      <td>3500.0</td>\n",
       "      <td>7.0</td>\n",
       "      <td>7.0</td>\n",
       "      <td>3.0</td>\n",
       "      <td>5.0</td>\n",
       "      <td>4.0</td>\n",
       "      <td>34.0</td>\n",
       "      <td>7.0</td>\n",
       "      <td>24.0</td>\n",
       "      <td>0.0</td>\n",
       "      <td>8.160547</td>\n",
       "      <td>Independent</td>\n",
       "      <td>2.0</td>\n",
       "      <td>4.0</td>\n",
       "    </tr>\n",
       "  </tbody>\n",
       "</table>\n",
       "</div>"
      ],
      "text/plain": [
       "      popul  TVnews  selfLR  ClinLR  DoleLR  PID   age  education  income  \\\n",
       "77     32.0     5.0     3.0     7.0     4.0  1.0  65.0        1.0     5.0   \n",
       "147   720.0     5.0     1.0     5.0     6.0  1.0  64.0        6.0    10.0   \n",
       "166     2.0     7.0     7.0     1.0     2.0  0.0  62.0        2.0    11.0   \n",
       "468     1.0     0.0     6.0     2.0     5.0  2.0  33.0        6.0    17.0   \n",
       "638     9.0     3.0     7.0     2.0     5.0  4.0  46.0        3.0    20.0   \n",
       "702   180.0     7.0     6.0     2.0     4.0  6.0  56.0        3.0    21.0   \n",
       "920  3500.0     7.0     7.0     3.0     5.0  4.0  34.0        7.0    24.0   \n",
       "\n",
       "     vote  logpopul        party  age_group  polit_dist  \n",
       "77    0.0  3.468856     Democrat        6.0        -4.0  \n",
       "147   0.0  6.579390     Democrat        5.0        -4.0  \n",
       "166   0.0  0.741937     Democrat        5.0         6.0  \n",
       "468   0.0  0.095310  Independent        2.0         4.0  \n",
       "638   0.0  2.208274  Independent        4.0         5.0  \n",
       "702   0.0  5.193512   Republican        5.0         4.0  \n",
       "920   0.0  8.160547  Independent        2.0         4.0  "
      ]
     },
     "execution_count": 162,
     "metadata": {},
     "output_type": "execute_result"
    }
   ],
   "source": [
    "sway"
   ]
  },
  {
   "cell_type": "markdown",
   "metadata": {
    "id": "HRJKA3UDLr-z"
   },
   "source": [
    "# BSD 3-Clause License\n",
    "\n",
    "*Copyright (c) 2022, UC Berkeley School of Information*\n",
    "\n",
    "*All rights reserved.*\n",
    "\n",
    "*Redistribution and use in source and binary forms, with or without modification, are permitted provided that the following conditions are met:*\n",
    "\n",
    "*1. Redistributions of source code must retain the above copyright notice, this list of conditions and the following disclaimer.*\n",
    "\n",
    "*2. Redistributions in binary form must reproduce the above copyright notice, this list of conditions and the following disclaimer in the documentation and/or other materials provided with the distribution.*\n",
    "\n",
    "*3. Neither the name of the copyright holder nor the names of its contributors may be used to endorse or promote products derived from this software without specific prior written permission.*\n",
    "\n",
    "*THIS SOFTWARE IS PROVIDED BY THE COPYRIGHT HOLDERS AND CONTRIBUTORS \"AS IS\" AND ANY EXPRESS OR IMPLIED WARRANTIES, INCLUDING, BUT NOT LIMITED TO, THE IMPLIED WARRANTIES OF MERCHANTABILITY AND FITNESS FOR A PARTICULAR PURPOSE ARE DISCLAIMED. IN NO EVENT SHALL THE COPYRIGHT HOLDER OR CONTRIBUTORS BE LIABLE FOR ANY DIRECT, INDIRECT, INCIDENTAL, SPECIAL, EXEMPLARY, OR CONSEQUENTIAL DAMAGES (INCLUDING, BUT NOT LIMITED TO, PROCUREMENT OF SUBSTITUTE GOODS OR SERVICES; LOSS OF USE, DATA, OR PROFITS; OR BUSINESS INTERRUPTION) HOWEVER CAUSED AND ON ANY THEORY OF LIABILITY, WHETHER IN CONTRACT, STRICT LIABILITY, OR TORT (INCLUDING NEGLIGENCE OR OTHERWISE) ARISING IN ANY WAY OUT OF THE USE OF THIS SOFTWARE, EVEN IF ADVISED OF THE POSSIBILITY OF SUCH DAMAGE.*"
   ]
  }
 ],
 "metadata": {
  "colab": {
   "provenance": [],
   "toc_visible": true
  },
  "kernelspec": {
   "display_name": "Python 3 (ipykernel)",
   "language": "python",
   "name": "python3"
  },
  "language_info": {
   "codemirror_mode": {
    "name": "ipython",
    "version": 3
   },
   "file_extension": ".py",
   "mimetype": "text/x-python",
   "name": "python",
   "nbconvert_exporter": "python",
   "pygments_lexer": "ipython3",
   "version": "3.9.12"
  }
 },
 "nbformat": 4,
 "nbformat_minor": 1
}
